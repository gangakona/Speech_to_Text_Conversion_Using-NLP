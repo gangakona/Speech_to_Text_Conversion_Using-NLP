{
 "cells": [
  {
   "cell_type": "code",
   "execution_count": 3,
   "id": "5c4bb4eb",
   "metadata": {},
   "outputs": [
    {
     "name": "stdout",
     "output_type": "stream",
     "text": [
      "Requirement already satisfied: SpeechRecognition in c:\\users\\konaa\\anaconda3\\lib\\site-packages (3.10.1)\n",
      "Requirement already satisfied: requests>=2.26.0 in c:\\users\\konaa\\anaconda3\\lib\\site-packages (from SpeechRecognition) (2.27.1)\n",
      "Requirement already satisfied: typing-extensions in c:\\users\\konaa\\anaconda3\\lib\\site-packages (from SpeechRecognition) (4.10.0)\n",
      "Requirement already satisfied: urllib3<1.27,>=1.21.1 in c:\\users\\konaa\\anaconda3\\lib\\site-packages (from requests>=2.26.0->SpeechRecognition) (1.26.9)\n",
      "Requirement already satisfied: charset-normalizer~=2.0.0 in c:\\users\\konaa\\anaconda3\\lib\\site-packages (from requests>=2.26.0->SpeechRecognition) (2.0.4)\n",
      "Requirement already satisfied: certifi>=2017.4.17 in c:\\users\\konaa\\anaconda3\\lib\\site-packages (from requests>=2.26.0->SpeechRecognition) (2021.10.8)\n",
      "Requirement already satisfied: idna<4,>=2.5 in c:\\users\\konaa\\anaconda3\\lib\\site-packages (from requests>=2.26.0->SpeechRecognition) (3.3)\n",
      "Requirement already satisfied: moviepy in c:\\users\\konaa\\anaconda3\\lib\\site-packages (1.0.3)\n",
      "Requirement already satisfied: SpeechRecognition in c:\\users\\konaa\\anaconda3\\lib\\site-packages (3.10.1)\n",
      "Requirement already satisfied: decorator<5.0,>=4.0.2 in c:\\users\\konaa\\anaconda3\\lib\\site-packages (from moviepy) (4.4.2)\n",
      "Requirement already satisfied: requests<3.0,>=2.8.1 in c:\\users\\konaa\\anaconda3\\lib\\site-packages (from moviepy) (2.27.1)\n",
      "Requirement already satisfied: imageio-ffmpeg>=0.2.0 in c:\\users\\konaa\\anaconda3\\lib\\site-packages (from moviepy) (0.4.9)\n",
      "Requirement already satisfied: numpy in c:\\users\\konaa\\anaconda3\\lib\\site-packages (from moviepy) (1.21.5)\n",
      "Requirement already satisfied: proglog<=1.0.0 in c:\\users\\konaa\\anaconda3\\lib\\site-packages (from moviepy) (0.1.10)\n",
      "Requirement already satisfied: tqdm<5.0,>=4.11.2 in c:\\users\\konaa\\anaconda3\\lib\\site-packages (from moviepy) (4.64.0)\n",
      "Requirement already satisfied: imageio<3.0,>=2.5 in c:\\users\\konaa\\anaconda3\\lib\\site-packages (from moviepy) (2.9.0)\n",
      "Requirement already satisfied: typing-extensions in c:\\users\\konaa\\anaconda3\\lib\\site-packages (from SpeechRecognition) (4.10.0)\n",
      "Requirement already satisfied: pillow in c:\\users\\konaa\\anaconda3\\lib\\site-packages (from imageio<3.0,>=2.5->moviepy) (9.0.1)\n",
      "Requirement already satisfied: setuptools in c:\\users\\konaa\\anaconda3\\lib\\site-packages (from imageio-ffmpeg>=0.2.0->moviepy) (61.2.0)\n",
      "Requirement already satisfied: idna<4,>=2.5 in c:\\users\\konaa\\anaconda3\\lib\\site-packages (from requests<3.0,>=2.8.1->moviepy) (3.3)\n",
      "Requirement already satisfied: urllib3<1.27,>=1.21.1 in c:\\users\\konaa\\anaconda3\\lib\\site-packages (from requests<3.0,>=2.8.1->moviepy) (1.26.9)\n",
      "Requirement already satisfied: charset-normalizer~=2.0.0 in c:\\users\\konaa\\anaconda3\\lib\\site-packages (from requests<3.0,>=2.8.1->moviepy) (2.0.4)\n",
      "Requirement already satisfied: certifi>=2017.4.17 in c:\\users\\konaa\\anaconda3\\lib\\site-packages (from requests<3.0,>=2.8.1->moviepy) (2021.10.8)\n",
      "Requirement already satisfied: colorama in c:\\users\\konaa\\anaconda3\\lib\\site-packages (from tqdm<5.0,>=4.11.2->moviepy) (0.4.6)\n"
     ]
    }
   ],
   "source": [
    "!pip install SpeechRecognition\n",
    "!pip install moviepy SpeechRecognition\n"
   ]
  },
  {
   "cell_type": "code",
   "execution_count": 4,
   "id": "3bb0d69d",
   "metadata": {},
   "outputs": [
    {
     "name": "stdout",
     "output_type": "stream",
     "text": [
      "Requirement already satisfied: moviepy in c:\\users\\konaa\\anaconda3\\lib\\site-packages (1.0.3)\n",
      "Requirement already satisfied: numpy>=1.17.3 in c:\\users\\konaa\\anaconda3\\lib\\site-packages (from moviepy) (1.21.5)\n",
      "Requirement already satisfied: requests<3.0,>=2.8.1 in c:\\users\\konaa\\anaconda3\\lib\\site-packages (from moviepy) (2.27.1)\n",
      "Requirement already satisfied: tqdm<5.0,>=4.11.2 in c:\\users\\konaa\\anaconda3\\lib\\site-packages (from moviepy) (4.64.0)\n",
      "Requirement already satisfied: imageio<3.0,>=2.5 in c:\\users\\konaa\\anaconda3\\lib\\site-packages (from moviepy) (2.9.0)\n",
      "Requirement already satisfied: imageio-ffmpeg>=0.2.0 in c:\\users\\konaa\\anaconda3\\lib\\site-packages (from moviepy) (0.4.9)\n",
      "Requirement already satisfied: decorator<5.0,>=4.0.2 in c:\\users\\konaa\\anaconda3\\lib\\site-packages (from moviepy) (4.4.2)\n",
      "Requirement already satisfied: proglog<=1.0.0 in c:\\users\\konaa\\anaconda3\\lib\\site-packages (from moviepy) (0.1.10)\n",
      "Requirement already satisfied: pillow in c:\\users\\konaa\\anaconda3\\lib\\site-packages (from imageio<3.0,>=2.5->moviepy) (9.0.1)\n",
      "Requirement already satisfied: setuptools in c:\\users\\konaa\\anaconda3\\lib\\site-packages (from imageio-ffmpeg>=0.2.0->moviepy) (61.2.0)\n",
      "Requirement already satisfied: urllib3<1.27,>=1.21.1 in c:\\users\\konaa\\anaconda3\\lib\\site-packages (from requests<3.0,>=2.8.1->moviepy) (1.26.9)\n",
      "Requirement already satisfied: certifi>=2017.4.17 in c:\\users\\konaa\\anaconda3\\lib\\site-packages (from requests<3.0,>=2.8.1->moviepy) (2021.10.8)\n",
      "Requirement already satisfied: idna<4,>=2.5 in c:\\users\\konaa\\anaconda3\\lib\\site-packages (from requests<3.0,>=2.8.1->moviepy) (3.3)\n",
      "Requirement already satisfied: charset-normalizer~=2.0.0 in c:\\users\\konaa\\anaconda3\\lib\\site-packages (from requests<3.0,>=2.8.1->moviepy) (2.0.4)\n",
      "Requirement already satisfied: colorama in c:\\users\\konaa\\anaconda3\\lib\\site-packages (from tqdm<5.0,>=4.11.2->moviepy) (0.4.6)\n",
      "Note: you may need to restart the kernel to use updated packages.\n"
     ]
    }
   ],
   "source": [
    "pip install --upgrade moviepy"
   ]
  },
  {
   "cell_type": "code",
   "execution_count": 8,
   "id": "7f7eec75",
   "metadata": {},
   "outputs": [
    {
     "name": "stdout",
     "output_type": "stream",
     "text": [
      "MoviePy - Writing audio in C:/Users/konaa/Videos/newaudio.wav\n"
     ]
    },
    {
     "name": "stderr",
     "output_type": "stream",
     "text": [
      "                                                                                                                       \r"
     ]
    },
    {
     "name": "stdout",
     "output_type": "stream",
     "text": [
      "MoviePy - Done.\n"
     ]
    }
   ],
   "source": [
    "import moviepy.editor as mp\n",
    "import speech_recognition as sr\n",
    "\n",
    "def extract_audio_from_video(video_path, audio_output_path):\n",
    "    video = mp.VideoFileClip(video_path)\n",
    "    audio = video.audio\n",
    "    audio.write_audiofile(audio_output_path)\n",
    "    video.close()\n",
    "\n",
    "def convert_audio_to_text(audio_path):\n",
    "    recognizer = sr.Recognizer()\n",
    "    with sr.AudioFile(audio_path) as source:\n",
    "        audio_data = recognizer.record(source)\n",
    "        text = recognizer.recognize_google(audio_data)\n",
    "    return text\n",
    "\n",
    "def save_text_to_file(text, output_file_path):\n",
    "    with open(output_file_path, \"w\") as file:\n",
    "        file.write(text)\n",
    "\n",
    "# Example usage\n",
    "video_path = r\"C:\\Users\\konaa\\Videos\\file.mp4\"\n",
    "audio_output_path = \"C:/Users/konaa/Videos/newaudio.wav\"\n",
    "text_output_path =  \"C:/Users/konaa/Videos/speechtotextt.txt\"\n",
    "\n",
    "# Step 1: Extract audio from the video\n",
    "extract_audio_from_video(video_path, audio_output_path)\n",
    "\n",
    "# Step 2: Convert audio to text\n",
    "audio_text = convert_audio_to_text(audio_output_path)\n",
    "\n",
    "# Step 3: Save text to file\n",
    "save_text_to_file(audio_text, text_output_path)\n"
   ]
  },
  {
   "cell_type": "code",
   "execution_count": null,
   "id": "79227abd",
   "metadata": {},
   "outputs": [],
   "source": []
  }
 ],
 "metadata": {
  "kernelspec": {
   "display_name": "Python 3 (ipykernel)",
   "language": "python",
   "name": "python3"
  },
  "language_info": {
   "codemirror_mode": {
    "name": "ipython",
    "version": 3
   },
   "file_extension": ".py",
   "mimetype": "text/x-python",
   "name": "python",
   "nbconvert_exporter": "python",
   "pygments_lexer": "ipython3",
   "version": "3.9.12"
  }
 },
 "nbformat": 4,
 "nbformat_minor": 5
}
